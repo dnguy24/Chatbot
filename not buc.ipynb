{
 "cells": [
  {
   "cell_type": "code",
   "execution_count": 1,
   "metadata": {},
   "outputs": [],
   "source": [
    "%matplotlib inline\n",
    "\n",
    "import logging, io, json, warnings\n",
    "logging.basicConfig(level=\"INFO\")\n",
    "warnings.filterwarnings('ignore')"
   ]
  },
  {
   "cell_type": "code",
   "execution_count": 2,
   "metadata": {
    "collapsed": true
   },
   "outputs": [
    {
     "name": "stdout",
     "output_type": "stream",
     "text": [
      "Collecting rasa_core==0.9.6\r\n"
     ]
    },
    {
     "name": "stdout",
     "output_type": "stream",
     "text": [
      "  Using cached https://files.pythonhosted.org/packages/72/de/82e762685a991351a9f89d934b1b25fe04d10462cf4017f93227cb4d9058/rasa_core-0.9.6-py2.py3-none-any.whl\r\n"
     ]
    },
    {
     "name": "stdout",
     "output_type": "stream",
     "text": [
      "Requirement already up-to-date: rasa_nlu[spacy] in ./anaconda3/lib/python3.7/site-packages (0.15.1)\r\n"
     ]
    },
    {
     "name": "stdout",
     "output_type": "stream",
     "text": [
      "Requirement already satisfied, skipping upgrade: typing~=3.0 in ./anaconda3/lib/python3.7/site-packages (from rasa_core==0.9.6) (3.7.4.1)\r\nRequirement already satisfied, skipping upgrade: tqdm~=4.0 in ./anaconda3/lib/python3.7/site-packages (from rasa_core==0.9.6) (4.32.1)\r\nRequirement already satisfied, skipping upgrade: fbmessenger~=5.0 in ./anaconda3/lib/python3.7/site-packages (from rasa_core==0.9.6) (5.6.0)\r\nRequirement already satisfied, skipping upgrade: six~=1.0 in ./anaconda3/lib/python3.7/site-packages (from rasa_core==0.9.6) (1.12.0)\r\nRequirement already satisfied, skipping upgrade: colorhash~=1.0 in ./anaconda3/lib/python3.7/site-packages (from rasa_core==0.9.6) (1.0.2)\r\nRequirement already satisfied, skipping upgrade: mattermostwrapper~=2.0 in ./anaconda3/lib/python3.7/site-packages (from rasa_core==0.9.6) (2.1)\r\nRequirement already satisfied, skipping upgrade: flask-cors~=3.0 in ./anaconda3/lib/python3.7/site-packages (from rasa_core==0.9.6) (3.0.7)\r\n"
     ]
    },
    {
     "name": "stdout",
     "output_type": "stream",
     "text": [
      "Collecting pykwalify<=1.6.0 (from rasa_core==0.9.6)\r\n  Using cached https://files.pythonhosted.org/packages/6e/59/55c32d59b462a9c3fae2ab25f179f91d61617c0215e9f8ba3f4966b2b8b1/pykwalify-1.6.0-py2.py3-none-any.whl\r\n"
     ]
    },
    {
     "name": "stdout",
     "output_type": "stream",
     "text": [
      "Collecting keras~=2.0 (from rasa_core==0.9.6)\r\n"
     ]
    },
    {
     "name": "stdout",
     "output_type": "stream",
     "text": [
      "\u001b[?25l  Downloading https://files.pythonhosted.org/packages/f8/ba/2d058dcf1b85b9c212cc58264c98a4a7dd92c989b798823cc5690d062bb2/Keras-2.2.5-py2.py3-none-any.whl (336kB)\r\n\r\u001b[K     |█                               | 10kB 14.0MB/s eta 0:00:01"
     ]
    },
    {
     "name": "stdout",
     "output_type": "stream",
     "text": [
      "\r\u001b[K     |██                              | 20kB 1.4MB/s eta 0:00:01\r\u001b[K     |███                             | 30kB 2.1MB/s eta 0:00:01\r\u001b[K     |████                            | 40kB 1.6MB/s eta 0:00:01\r\u001b[K     |████▉                           | 51kB 1.8MB/s eta 0:00:01\r\u001b[K     |█████▉                          | 61kB 2.2MB/s eta 0:00:01\r\u001b[K     |██████▉                         | 71kB 2.5MB/s eta 0:00:01\r\u001b[K     |███████▉                        | 81kB 2.3MB/s eta 0:00:01\r\u001b[K     |████████▊                       | 92kB 2.5MB/s eta 0:00:01\r\u001b[K     |█████████▊                      | 102kB 2.7MB/s eta 0:00:01\r\u001b[K     |██████████▊                     | 112kB 2.7MB/s eta 0:00:01\r\u001b[K     |███████████▊                    | 122kB 2.7MB/s eta 0:00:01\r\u001b[K     |████████████▊                   | 133kB 2.7MB/s eta 0:00:01\r\u001b[K     |█████████████▋                  | 143kB 2.7MB/s eta 0:00:01\r\u001b[K     |██████████████▋                 | 153kB 2.7MB/s eta 0:00:01\r\u001b[K     |███████████████▋                | 163kB 2.7MB/s eta 0:00:01\r\u001b[K     |████████████████▋               | 174kB 2.7MB/s eta 0:00:01\r\u001b[K     |█████████████████▌              | 184kB 2.7MB/s eta 0:00:01\r\u001b[K     |██████████████████▌             | 194kB 2.7MB/s eta 0:00:01\r\u001b[K     |███████████████████▌            | 204kB 2.7MB/s eta 0:00:01\r\u001b[K     |████████████████████▌           | 215kB 2.7MB/s eta 0:00:01\r\u001b[K     |█████████████████████▍          | 225kB 2.7MB/s eta 0:00:01\r\u001b[K     |██████████████████████▍         | 235kB 2.7MB/s eta 0:00:01"
     ]
    },
    {
     "name": "stdout",
     "output_type": "stream",
     "text": [
      "\r\u001b[K     |███████████████████████▍        | 245kB 2.7MB/s eta 0:00:01\r\u001b[K     |████████████████████████▍       | 256kB 2.7MB/s eta 0:00:01\r\u001b[K     |█████████████████████████▍      | 266kB 2.7MB/s eta 0:00:01\r\u001b[K     |██████████████████████████▎     | 276kB 2.7MB/s eta 0:00:01\r\u001b[K     |███████████████████████████▎    | 286kB 2.7MB/s eta 0:00:01\r\u001b[K     |████████████████████████████▎   | 296kB 2.7MB/s eta 0:00:01\r\u001b[K     |█████████████████████████████▎  | 307kB 2.7MB/s eta 0:00:01\r\u001b[K     |██████████████████████████████▏ | 317kB 2.7MB/s eta 0:00:01\r\u001b[K     |███████████████████████████████▏| 327kB 2.7MB/s eta 0:00:01\r\u001b[K     |████████████████████████████████| 337kB 2.7MB/s \r\n"
     ]
    },
    {
     "name": "stdout",
     "output_type": "stream",
     "text": [
      "\u001b[?25hRequirement already satisfied, skipping upgrade: apscheduler~=3.0 in ./anaconda3/lib/python3.7/site-packages (from rasa_core==0.9.6) (3.6.1)\r\nRequirement already satisfied, skipping upgrade: redis~=2.0 in ./anaconda3/lib/python3.7/site-packages (from rasa_core==0.9.6) (2.10.6)\r\nRequirement already satisfied, skipping upgrade: twilio~=6.0 in ./anaconda3/lib/python3.7/site-packages (from rasa_core==0.9.6) (6.30.0)\r\n"
     ]
    },
    {
     "name": "stdout",
     "output_type": "stream",
     "text": [
      "Collecting jsonpickle~=0.9.0 (from rasa_core==0.9.6)\r\n"
     ]
    },
    {
     "name": "stdout",
     "output_type": "stream",
     "text": [
      "  Using cached https://files.pythonhosted.org/packages/32/d5/2f47f03d3f64c31b0d7070b488274631d7567c36e81a9f744e6638bb0f0d/jsonpickle-0.9.6.tar.gz\r\n"
     ]
    },
    {
     "name": "stdout",
     "output_type": "stream",
     "text": [
      "Collecting graphviz~=0.8.0 (from rasa_core==0.9.6)\r\n"
     ]
    },
    {
     "name": "stdout",
     "output_type": "stream",
     "text": [
      "  Downloading https://files.pythonhosted.org/packages/53/39/4ab213673844e0c004bed8a0781a0721a3f6bb23eb8854ee75c236428892/graphviz-0.8.4-py2.py3-none-any.whl\r\n"
     ]
    },
    {
     "name": "stdout",
     "output_type": "stream",
     "text": [
      "Collecting tensorflow<1.9,>=1.7 (from rasa_core==0.9.6)\r\n"
     ]
    },
    {
     "name": "stdout",
     "output_type": "stream",
     "text": [
      "\u001b[31m  ERROR: Could not find a version that satisfies the requirement tensorflow<1.9,>=1.7 (from rasa_core==0.9.6) (from versions: 1.13.0rc1, 1.13.0rc2, 1.13.1, 1.13.2, 1.14.0rc0, 1.14.0rc1, 1.14.0, 2.0.0a0, 2.0.0b0, 2.0.0b1, 2.0.0rc0)\u001b[0m\r\n"
     ]
    },
    {
     "name": "stdout",
     "output_type": "stream",
     "text": [
      "\u001b[31mERROR: No matching distribution found for tensorflow<1.9,>=1.7 (from rasa_core==0.9.6)\u001b[0m\r\n"
     ]
    },
    {
     "name": "stdout",
     "output_type": "stream",
     "text": [
      "Note: you may need to restart the kernel to use updated packages.\n"
     ]
    }
   ],
   "source": [
    "\n",
    "import sys\n",
    "python = sys.executable\n",
    "\n",
    "# In your environment run:\n"
   ]
  },
  {
   "cell_type": "code",
   "execution_count": 14,
   "metadata": {
    "collapsed": true
   },
   "outputs": [
    {
     "name": "stdout",
     "output_type": "stream",
     "text": [
      "Collecting rasa_core\r\n"
     ]
    },
    {
     "name": "stdout",
     "output_type": "stream",
     "text": [
      "  Using cached https://files.pythonhosted.org/packages/cd/7b/58a6a997023a8b1f6a0e292d08fd88b4d39ec325e103c6cebd1eb38f6545/rasa_core-0.14.5-py3-none-any.whl\r\n"
     ]
    },
    {
     "name": "stdout",
     "output_type": "stream",
     "text": [
      "Requirement already up-to-date: rasa_nlu[spacy] in ./anaconda3/lib/python3.7/site-packages (0.15.1)\r\n"
     ]
    },
    {
     "name": "stdout",
     "output_type": "stream",
     "text": [
      "Collecting terminaltables~=3.1 (from rasa_core)\r\n"
     ]
    },
    {
     "name": "stdout",
     "output_type": "stream",
     "text": [
      "Collecting pykwalify~=1.7.0 (from rasa_core)\r\n  Using cached https://files.pythonhosted.org/packages/36/9f/612de8ca540bd24d604f544248c4c46e9db76f6ea5eb75fb4244da6ebbf0/pykwalify-1.7.0-py2.py3-none-any.whl\r\n"
     ]
    },
    {
     "name": "stdout",
     "output_type": "stream",
     "text": [
      "Requirement already satisfied, skipping upgrade: requests~=2.20 in ./anaconda3/lib/python3.7/site-packages (from rasa_core) (2.22.0)\r\n"
     ]
    },
    {
     "name": "stdout",
     "output_type": "stream",
     "text": [
      "Collecting pika~=0.12.0 (from rasa_core)\r\n"
     ]
    },
    {
     "name": "stdout",
     "output_type": "stream",
     "text": [
      "  Using cached https://files.pythonhosted.org/packages/bf/48/72de47f63ba353bacd74b76bb65bc63620b0706d8b0471798087cd5a4916/pika-0.12.0-py2.py3-none-any.whl\r\n"
     ]
    },
    {
     "name": "stdout",
     "output_type": "stream",
     "text": [
      "Collecting rocketchat-API~=0.6.0 (from rasa_core)\r\n"
     ]
    },
    {
     "name": "stdout",
     "output_type": "stream",
     "text": [
      "  Using cached https://files.pythonhosted.org/packages/e2/36/29d991028e2943b6a12abe12e3114a4cce13872283df7c7b784ee4cb59ed/rocketchat_API-0.6.34-py3-none-any.whl\r\n"
     ]
    },
    {
     "name": "stdout",
     "output_type": "stream",
     "text": [
      "Collecting pymongo~=3.7 (from rasa_core)\r\n"
     ]
    },
    {
     "name": "stdout",
     "output_type": "stream",
     "text": [
      "  Using cached https://files.pythonhosted.org/packages/a3/8c/ec46f4aa95515989711a7893e64c30f9d33c58eaccc01f8f37c4513739a2/pymongo-3.9.0-cp37-cp37m-macosx_10_6_intel.whl\r\n"
     ]
    },
    {
     "name": "stdout",
     "output_type": "stream",
     "text": [
      "Collecting colorhash~=1.0 (from rasa_core)\r\n"
     ]
    },
    {
     "name": "stdout",
     "output_type": "stream",
     "text": [
      "  Using cached https://files.pythonhosted.org/packages/0e/e1/50dbc513aa74e99eca4c47f2a8206711f0bec436fdddd95eebaf7eaaa1aa/colorhash-1.0.2-py2.py3-none-any.whl\r\n"
     ]
    },
    {
     "name": "stdout",
     "output_type": "stream",
     "text": [
      "Requirement already satisfied, skipping upgrade: coloredlogs~=10.0 in ./anaconda3/lib/python3.7/site-packages (from rasa_core) (10.0)\r\n"
     ]
    },
    {
     "name": "stdout",
     "output_type": "stream",
     "text": [
      "Collecting rasa-core-sdk~=0.14 (from rasa_core)\r\n"
     ]
    },
    {
     "name": "stdout",
     "output_type": "stream",
     "text": [
      "  Using cached https://files.pythonhosted.org/packages/bc/5b/343937a872b497079803878e5a6f75deb4aeb00504d32601a0ffd37b90f4/rasa_core_sdk-0.14.0-py2.py3-none-any.whl\r\n"
     ]
    },
    {
     "name": "stdout",
     "output_type": "stream",
     "text": [
      "Requirement already satisfied, skipping upgrade: tqdm~=4.0 in ./anaconda3/lib/python3.7/site-packages (from rasa_core) (4.32.1)\r\n"
     ]
    },
    {
     "name": "stdout",
     "output_type": "stream",
     "text": [
      "Collecting flask-jwt-simple~=0.0.3 (from rasa_core)\r\n"
     ]
    },
    {
     "name": "stdout",
     "output_type": "stream",
     "text": [
      "Requirement already satisfied, skipping upgrade: networkx~=2.2 in ./anaconda3/lib/python3.7/site-packages (from rasa_core) (2.3)\r\n"
     ]
    },
    {
     "name": "stdout",
     "output_type": "stream",
     "text": [
      "Collecting slackclient~=1.0 (from rasa_core)\r\n"
     ]
    },
    {
     "name": "stdout",
     "output_type": "stream",
     "text": [
      "Collecting redis~=2.0 (from rasa_core)\r\n"
     ]
    },
    {
     "name": "stdout",
     "output_type": "stream",
     "text": [
      "  Using cached https://files.pythonhosted.org/packages/3b/f6/7a76333cf0b9251ecf49efff635015171843d9b977e4ffcf59f9c4428052/redis-2.10.6-py2.py3-none-any.whl\r\n"
     ]
    },
    {
     "name": "stdout",
     "output_type": "stream",
     "text": [
      "Collecting pytz~=2018.9 (from rasa_core)\r\n"
     ]
    },
    {
     "name": "stdout",
     "output_type": "stream",
     "text": [
      "  Using cached https://files.pythonhosted.org/packages/61/28/1d3920e4d1d50b19bc5d24398a7cd85cc7b9a75a490570d5a30c57622d34/pytz-2018.9-py2.py3-none-any.whl\r\n"
     ]
    },
    {
     "name": "stdout",
     "output_type": "stream",
     "text": [
      "Collecting fbmessenger~=5.0 (from rasa_core)\r\n"
     ]
    },
    {
     "name": "stdout",
     "output_type": "stream",
     "text": [
      "  Using cached https://files.pythonhosted.org/packages/51/9d/9a426160e00c3c9d839314685fcec1f60ad04888be4228399dadb37c3226/fbmessenger-5.6.0-py2.py3-none-any.whl\r\n"
     ]
    },
    {
     "name": "stdout",
     "output_type": "stream",
     "text": [
      "Requirement already satisfied, skipping upgrade: jsonschema~=2.6 in ./anaconda3/lib/python3.7/site-packages (from rasa_core) (2.6.0)\r\n"
     ]
    },
    {
     "name": "stdout",
     "output_type": "stream",
     "text": [
      "Collecting tensorflow~=1.13.0 (from rasa_core)\r\n"
     ]
    },
    {
     "name": "stdout",
     "output_type": "stream",
     "text": [
      "  Using cached https://files.pythonhosted.org/packages/a9/2e/846be1aca29a5324f85b7a8cc8f1fb6eade08708118d2f466eac6a3ec518/tensorflow-1.13.2-cp37-cp37m-macosx_10_11_x86_64.whl\r\n"
     ]
    },
    {
     "name": "stdout",
     "output_type": "stream",
     "text": [
      "Collecting webexteamssdk~=1.0 (from rasa_core)\r\n"
     ]
    },
    {
     "name": "stdout",
     "output_type": "stream",
     "text": [
      "Requirement already satisfied, skipping upgrade: flask~=1.0 in ./anaconda3/lib/python3.7/site-packages (from rasa_core) (1.0.3)\r\n"
     ]
    },
    {
     "name": "stdout",
     "output_type": "stream",
     "text": [
      "Collecting python-telegram-bot~=11.0 (from rasa_core)\r\n"
     ]
    },
    {
     "name": "stdout",
     "output_type": "stream",
     "text": [
      "  Using cached https://files.pythonhosted.org/packages/84/6c/47932a4041ee76650ad1f45a80e1422077e1e99c08a4d7a61cfbe5393d41/python_telegram_bot-11.1.0-py2.py3-none-any.whl\r\n"
     ]
    },
    {
     "name": "stdout",
     "output_type": "stream",
     "text": [
      "Requirement already satisfied, skipping upgrade: numpy~=1.16 in ./anaconda3/lib/python3.7/site-packages (from rasa_core) (1.16.4)\r\nRequirement already satisfied, skipping upgrade: scipy~=1.2 in ./anaconda3/lib/python3.7/site-packages (from rasa_core) (1.2.1)\r\n"
     ]
    },
    {
     "name": "stdout",
     "output_type": "stream",
     "text": [
      "Collecting colorclass~=2.2 (from rasa_core)\r\n"
     ]
    },
    {
     "name": "stdout",
     "output_type": "stream",
     "text": [
      "Requirement already satisfied, skipping upgrade: typing~=3.0 in ./anaconda3/lib/python3.7/site-packages (from rasa_core) (3.7.4.1)\r\n"
     ]
    },
    {
     "name": "stdout",
     "output_type": "stream",
     "text": [
      "Collecting fakeredis~=0.10.0 (from rasa_core)\r\n"
     ]
    },
    {
     "name": "stdout",
     "output_type": "stream",
     "text": [
      "  Using cached https://files.pythonhosted.org/packages/64/bd/2756ddf350c4bb308e3255f9dcd6610f8b01344947bf74d5d166dc66b0a2/fakeredis-0.10.3-py2.py3-none-any.whl\r\n"
     ]
    },
    {
     "name": "stdout",
     "output_type": "stream",
     "text": [
      "Collecting jsonpickle~=1.0 (from rasa_core)\r\n"
     ]
    },
    {
     "name": "stdout",
     "output_type": "stream",
     "text": [
      "  Using cached https://files.pythonhosted.org/packages/07/07/c157520a3ebd166c8c24c6ae0ecae7c3968eb4653ff0e5af369bb82f004d/jsonpickle-1.2-py2.py3-none-any.whl\r\n"
     ]
    },
    {
     "name": "stdout",
     "output_type": "stream",
     "text": [
      "Collecting pydot~=1.4 (from rasa_core)\r\n"
     ]
    },
    {
     "name": "stdout",
     "output_type": "stream",
     "text": [
      "  Using cached https://files.pythonhosted.org/packages/33/d1/b1479a770f66d962f545c2101630ce1d5592d90cb4f083d38862e93d16d2/pydot-1.4.1-py2.py3-none-any.whl\r\n"
     ]
    },
    {
     "name": "stdout",
     "output_type": "stream",
     "text": [
      "Requirement already satisfied, skipping upgrade: gevent~=1.3 in ./anaconda3/lib/python3.7/site-packages (from rasa_core) (1.4.0)\r\nRequirement already satisfied, skipping upgrade: packaging~=18.0 in ./anaconda3/lib/python3.7/site-packages (from rasa_core) (18.0)\r\nRequirement already satisfied, skipping upgrade: python-dateutil~=2.7 in ./anaconda3/lib/python3.7/site-packages (from rasa_core) (2.8.0)\r\n"
     ]
    },
    {
     "name": "stdout",
     "output_type": "stream",
     "text": [
      "Collecting mattermostwrapper~=2.0 (from rasa_core)\r\n"
     ]
    },
    {
     "name": "stdout",
     "output_type": "stream",
     "text": [
      "  Using cached https://files.pythonhosted.org/packages/93/70/203660597d12788e958dd691aa11c3c29caa075eadb2ce94d2eb53099d1b/mattermostwrapper-2.1-py2.py3-none-any.whl\r\n"
     ]
    },
    {
     "name": "stdout",
     "output_type": "stream",
     "text": [
      "Requirement already satisfied, skipping upgrade: scikit-learn~=0.20.0 in ./anaconda3/lib/python3.7/site-packages (from rasa_core) (0.20.4)\r\n"
     ]
    },
    {
     "name": "stdout",
     "output_type": "stream",
     "text": [
      "Collecting apscheduler~=3.0 (from rasa_core)\r\n"
     ]
    },
    {
     "name": "stdout",
     "output_type": "stream",
     "text": [
      "  Using cached https://files.pythonhosted.org/packages/09/ff/d5b0e81846cd5e92d02e5f2682b78c73a5d9d61bc1eae32cea5ac15c0d47/APScheduler-3.6.1-py2.py3-none-any.whl\r\n"
     ]
    },
    {
     "name": "stdout",
     "output_type": "stream",
     "text": [
      "Requirement already satisfied, skipping upgrade: ruamel.yaml~=0.15.0 in ./anaconda3/lib/python3.7/site-packages (from rasa_core) (0.15.100)\r\n"
     ]
    },
    {
     "name": "stdout",
     "output_type": "stream",
     "text": [
      "Requirement already satisfied, skipping upgrade: flask-cors~=3.0 in ./anaconda3/lib/python3.7/site-packages (from rasa_core) (3.0.7)\r\n"
     ]
    },
    {
     "name": "stdout",
     "output_type": "stream",
     "text": [
      "Collecting python-socketio~=3.0 (from rasa_core)\r\n"
     ]
    },
    {
     "name": "stdout",
     "output_type": "stream",
     "text": [
      "  Using cached https://files.pythonhosted.org/packages/b5/db/dc823aa0b3397e52ebe8bba62ee39d6b9a088377809bc230d3ad2e5d2448/python_socketio-3.1.2-py2.py3-none-any.whl\r\n"
     ]
    },
    {
     "name": "stdout",
     "output_type": "stream",
     "text": [
      "Collecting questionary>=1.0.1 (from rasa_core)\r\n"
     ]
    },
    {
     "name": "stdout",
     "output_type": "stream",
     "text": [
      "  Using cached https://files.pythonhosted.org/packages/c2/f9/8a6e7fce60566b3bcdc5ad0923916f38a65bca630ce3647251e672308bdf/questionary-1.3.0-py3-none-any.whl\r\n"
     ]
    },
    {
     "name": "stdout",
     "output_type": "stream",
     "text": [
      "Collecting twilio~=6.0 (from rasa_core)\r\n"
     ]
    },
    {
     "name": "stdout",
     "output_type": "stream",
     "text": [
      "  Using cached https://files.pythonhosted.org/packages/00/f9/b6cec4de7eaa1faa86d47a43b97b706a3c54538f83a16ad97a111022d6f3/twilio-6.30.0-py2.py3-none-any.whl\r\n"
     ]
    },
    {
     "name": "stdout",
     "output_type": "stream",
     "text": [
      "Requirement already satisfied, skipping upgrade: matplotlib~=2.2 in ./anaconda3/lib/python3.7/site-packages (from rasa_nlu[spacy]) (2.2.4)\r\nRequirement already satisfied, skipping upgrade: klein~=17.10 in ./anaconda3/lib/python3.7/site-packages (from rasa_nlu[spacy]) (17.10.0)\r\nRequirement already satisfied, skipping upgrade: boto3~=1.9 in ./anaconda3/lib/python3.7/site-packages (from rasa_nlu[spacy]) (1.9.224)\r\nRequirement already satisfied, skipping upgrade: future~=0.17.1 in ./anaconda3/lib/python3.7/site-packages (from rasa_nlu[spacy]) (0.17.1)\r\nRequirement already satisfied, skipping upgrade: simplejson~=3.13 in ./anaconda3/lib/python3.7/site-packages (from rasa_nlu[spacy]) (3.16.0)\r\nRequirement already satisfied, skipping upgrade: cloudpickle~=0.6.1 in ./anaconda3/lib/python3.7/site-packages (from rasa_nlu[spacy]) (0.6.1)\r\nRequirement already satisfied, skipping upgrade: sklearn-crfsuite~=0.3.6; extra == \"spacy\" in ./anaconda3/lib/python3.7/site-packages (from rasa_nlu[spacy]) (0.3.6)\r\nRequirement already satisfied, skipping upgrade: spacy<=2.0.18,>2.0; extra == \"spacy\" in ./anaconda3/lib/python3.7/site-packages (from rasa_nlu[spacy]) (2.0.18)\r\n"
     ]
    },
    {
     "name": "stdout",
     "output_type": "stream",
     "text": [
      "Requirement already satisfied, skipping upgrade: PyYAML>=3.11 in ./anaconda3/lib/python3.7/site-packages (from pykwalify~=1.7.0->rasa_core) (5.1)\r\n"
     ]
    },
    {
     "name": "stdout",
     "output_type": "stream",
     "text": [
      "Collecting docopt>=0.6.2 (from pykwalify~=1.7.0->rasa_core)\r\n"
     ]
    },
    {
     "name": "stdout",
     "output_type": "stream",
     "text": [
      "Requirement already satisfied, skipping upgrade: idna<2.9,>=2.5 in ./anaconda3/lib/python3.7/site-packages (from requests~=2.20->rasa_core) (2.8)\r\nRequirement already satisfied, skipping upgrade: certifi>=2017.4.17 in ./anaconda3/lib/python3.7/site-packages (from requests~=2.20->rasa_core) (2019.3.9)\r\nRequirement already satisfied, skipping upgrade: chardet<3.1.0,>=3.0.2 in ./anaconda3/lib/python3.7/site-packages (from requests~=2.20->rasa_core) (3.0.4)\r\nRequirement already satisfied, skipping upgrade: urllib3!=1.25.0,!=1.25.1,<1.26,>=1.21.1 in ./anaconda3/lib/python3.7/site-packages (from requests~=2.20->rasa_core) (1.24.2)\r\nRequirement already satisfied, skipping upgrade: humanfriendly>=4.7 in ./anaconda3/lib/python3.7/site-packages (from coloredlogs~=10.0->rasa_core) (4.18)\r\nRequirement already satisfied, skipping upgrade: six~=1.11 in ./anaconda3/lib/python3.7/site-packages (from rasa-core-sdk~=0.14->rasa_core) (1.12.0)\r\n"
     ]
    },
    {
     "name": "stdout",
     "output_type": "stream",
     "text": [
      "Collecting ConfigArgParse~=0.13.0 (from rasa-core-sdk~=0.14->rasa_core)\r\n"
     ]
    },
    {
     "name": "stdout",
     "output_type": "stream",
     "text": [
      "Collecting PyJWT (from flask-jwt-simple~=0.0.3->rasa_core)\r\n"
     ]
    },
    {
     "name": "stdout",
     "output_type": "stream",
     "text": [
      "  Using cached https://files.pythonhosted.org/packages/87/8b/6a9f14b5f781697e51259d81657e6048fd31a113229cf346880bb7545565/PyJWT-1.7.1-py2.py3-none-any.whl\r\n"
     ]
    },
    {
     "name": "stdout",
     "output_type": "stream",
     "text": [
      "Requirement already satisfied, skipping upgrade: decorator>=4.3.0 in ./anaconda3/lib/python3.7/site-packages (from networkx~=2.2->rasa_core) (4.4.0)\r\n"
     ]
    },
    {
     "name": "stdout",
     "output_type": "stream",
     "text": [
      "Collecting websocket-client<0.55.0,>=0.35 (from slackclient~=1.0->rasa_core)\r\n"
     ]
    },
    {
     "name": "stdout",
     "output_type": "stream",
     "text": [
      "  Using cached https://files.pythonhosted.org/packages/26/2d/f749a5c82f6192d77ed061a38e02001afcba55fe8477336d26a950ab17ce/websocket_client-0.54.0-py2.py3-none-any.whl\r\n"
     ]
    },
    {
     "name": "stdout",
     "output_type": "stream",
     "text": [
      "Requirement already satisfied, skipping upgrade: termcolor>=1.1.0 in ./anaconda3/lib/python3.7/site-packages (from tensorflow~=1.13.0->rasa_core) (1.1.0)\r\nRequirement already satisfied, skipping upgrade: absl-py>=0.1.6 in ./anaconda3/lib/python3.7/site-packages (from tensorflow~=1.13.0->rasa_core) (0.7.1)\r\n"
     ]
    },
    {
     "name": "stdout",
     "output_type": "stream",
     "text": [
      "Requirement already satisfied, skipping upgrade: wheel>=0.26 in ./anaconda3/lib/python3.7/site-packages (from tensorflow~=1.13.0->rasa_core) (0.33.4)\r\nCollecting tensorboard<1.14.0,>=1.13.0 (from tensorflow~=1.13.0->rasa_core)\r\n"
     ]
    },
    {
     "name": "stdout",
     "output_type": "stream",
     "text": [
      "  Using cached https://files.pythonhosted.org/packages/0f/39/bdd75b08a6fba41f098b6cb091b9e8c7a80e1b4d679a581a0ccd17b10373/tensorboard-1.13.1-py3-none-any.whl\r\n"
     ]
    },
    {
     "name": "stdout",
     "output_type": "stream",
     "text": [
      "Requirement already satisfied, skipping upgrade: keras-applications>=1.0.6 in ./anaconda3/lib/python3.7/site-packages (from tensorflow~=1.13.0->rasa_core) (1.0.8)\r\n"
     ]
    },
    {
     "name": "stdout",
     "output_type": "stream",
     "text": [
      "Requirement already satisfied, skipping upgrade: protobuf>=3.6.1 in ./anaconda3/lib/python3.7/site-packages (from tensorflow~=1.13.0->rasa_core) (3.8.0)\r\nCollecting tensorflow-estimator<1.14.0rc0,>=1.13.0 (from tensorflow~=1.13.0->rasa_core)\r\n"
     ]
    },
    {
     "name": "stdout",
     "output_type": "stream",
     "text": [
      "  Using cached https://files.pythonhosted.org/packages/bb/48/13f49fc3fa0fdf916aa1419013bb8f2ad09674c275b4046d5ee669a46873/tensorflow_estimator-1.13.0-py2.py3-none-any.whl\r\n"
     ]
    },
    {
     "name": "stdout",
     "output_type": "stream",
     "text": [
      "Requirement already satisfied, skipping upgrade: astor>=0.6.0 in ./anaconda3/lib/python3.7/site-packages (from tensorflow~=1.13.0->rasa_core) (0.8.0)\r\nRequirement already satisfied, skipping upgrade: gast>=0.2.0 in ./anaconda3/lib/python3.7/site-packages (from tensorflow~=1.13.0->rasa_core) (0.2.2)\r\nRequirement already satisfied, skipping upgrade: keras-preprocessing>=1.0.5 in ./anaconda3/lib/python3.7/site-packages (from tensorflow~=1.13.0->rasa_core) (1.1.0)\r\nRequirement already satisfied, skipping upgrade: grpcio>=1.8.6 in ./anaconda3/lib/python3.7/site-packages (from tensorflow~=1.13.0->rasa_core) (1.21.1)\r\n"
     ]
    },
    {
     "name": "stdout",
     "output_type": "stream",
     "text": [
      "Collecting requests-toolbelt (from webexteamssdk~=1.0->rasa_core)\r\n"
     ]
    },
    {
     "name": "stdout",
     "output_type": "stream",
     "text": [
      "  Using cached https://files.pythonhosted.org/packages/60/ef/7681134338fc097acef8d9b2f8abe0458e4d87559c689a8c306d0957ece5/requests_toolbelt-0.9.1-py2.py3-none-any.whl\r\n"
     ]
    },
    {
     "name": "stdout",
     "output_type": "stream",
     "text": [
      "Requirement already satisfied, skipping upgrade: Jinja2>=2.10 in ./anaconda3/lib/python3.7/site-packages (from flask~=1.0->rasa_core) (2.10.1)\r\nRequirement already satisfied, skipping upgrade: itsdangerous>=0.24 in ./anaconda3/lib/python3.7/site-packages (from flask~=1.0->rasa_core) (1.1.0)\r\nRequirement already satisfied, skipping upgrade: Werkzeug>=0.14 in ./anaconda3/lib/python3.7/site-packages (from flask~=1.0->rasa_core) (0.15.4)\r\n"
     ]
    },
    {
     "name": "stdout",
     "output_type": "stream",
     "text": [
      "Requirement already satisfied, skipping upgrade: click>=5.1 in ./anaconda3/lib/python3.7/site-packages (from flask~=1.0->rasa_core) (7.0)\r\nRequirement already satisfied, skipping upgrade: cryptography in ./anaconda3/lib/python3.7/site-packages (from python-telegram-bot~=11.0->rasa_core) (2.7)\r\nRequirement already satisfied, skipping upgrade: pyparsing>=2.1.4 in ./anaconda3/lib/python3.7/site-packages (from pydot~=1.4->rasa_core) (2.4.0)\r\nRequirement already satisfied, skipping upgrade: greenlet>=0.4.14 in ./anaconda3/lib/python3.7/site-packages (from gevent~=1.3->rasa_core) (0.4.15)\r\nRequirement already satisfied, skipping upgrade: setuptools>=0.7 in ./anaconda3/lib/python3.7/site-packages (from apscheduler~=3.0->rasa_core) (41.0.1)\r\n"
     ]
    },
    {
     "name": "stdout",
     "output_type": "stream",
     "text": [
      "Collecting tzlocal>=1.2 (from apscheduler~=3.0->rasa_core)\r\n"
     ]
    },
    {
     "name": "stdout",
     "output_type": "stream",
     "text": [
      "  Using cached https://files.pythonhosted.org/packages/ef/99/53bd1ac9349262f59c1c421d8fcc2559ae8a5eeffed9202684756b648d33/tzlocal-2.0.0-py2.py3-none-any.whl\r\n"
     ]
    },
    {
     "name": "stdout",
     "output_type": "stream",
     "text": [
      "Collecting python-engineio>=3.2.0 (from python-socketio~=3.0->rasa_core)\r\n"
     ]
    },
    {
     "name": "stdout",
     "output_type": "stream",
     "text": [
      "  Using cached https://files.pythonhosted.org/packages/2b/20/8e3ba16102ae2e245d70d9cb9fa48b076253fdb036dc43eea142294c2897/python_engineio-3.9.3-py2.py3-none-any.whl\r\n"
     ]
    },
    {
     "name": "stdout",
     "output_type": "stream",
     "text": [
      "Requirement already satisfied, skipping upgrade: prompt-toolkit~=2.0 in ./anaconda3/lib/python3.7/site-packages (from questionary>=1.0.1->rasa_core) (2.0.9)\r\nRequirement already satisfied, skipping upgrade: pysocks; python_version >= \"3.0\" in ./anaconda3/lib/python3.7/site-packages (from twilio~=6.0->rasa_core) (1.7.0)\r\nRequirement already satisfied, skipping upgrade: kiwisolver>=1.0.1 in ./anaconda3/lib/python3.7/site-packages (from matplotlib~=2.2->rasa_nlu[spacy]) (1.1.0)\r\nRequirement already satisfied, skipping upgrade: cycler>=0.10 in ./anaconda3/lib/python3.7/site-packages (from matplotlib~=2.2->rasa_nlu[spacy]) (0.10.0)\r\nRequirement already satisfied, skipping upgrade: incremental in ./anaconda3/lib/python3.7/site-packages (from klein~=17.10->rasa_nlu[spacy]) (17.5.0)\r\nRequirement already satisfied, skipping upgrade: Twisted>=15.5 in ./anaconda3/lib/python3.7/site-packages (from klein~=17.10->rasa_nlu[spacy]) (19.2.1)\r\n"
     ]
    },
    {
     "name": "stdout",
     "output_type": "stream",
     "text": [
      "Requirement already satisfied, skipping upgrade: s3transfer<0.3.0,>=0.2.0 in ./anaconda3/lib/python3.7/site-packages (from boto3~=1.9->rasa_nlu[spacy]) (0.2.1)\r\n"
     ]
    },
    {
     "name": "stdout",
     "output_type": "stream",
     "text": [
      "Requirement already satisfied, skipping upgrade: botocore<1.13.0,>=1.12.224 in ./anaconda3/lib/python3.7/site-packages (from boto3~=1.9->rasa_nlu[spacy]) (1.12.224)\r\nRequirement already satisfied, skipping upgrade: jmespath<1.0.0,>=0.7.1 in ./anaconda3/lib/python3.7/site-packages (from boto3~=1.9->rasa_nlu[spacy]) (0.9.4)\r\n"
     ]
    },
    {
     "name": "stdout",
     "output_type": "stream",
     "text": [
      "Requirement already satisfied, skipping upgrade: python-crfsuite>=0.8.3 in ./anaconda3/lib/python3.7/site-packages (from sklearn-crfsuite~=0.3.6; extra == \"spacy\"->rasa_nlu[spacy]) (0.9.6)\r\nRequirement already satisfied, skipping upgrade: tabulate in ./anaconda3/lib/python3.7/site-packages (from sklearn-crfsuite~=0.3.6; extra == \"spacy\"->rasa_nlu[spacy]) (0.8.3)\r\nRequirement already satisfied, skipping upgrade: thinc<6.13.0,>=6.12.1 in ./anaconda3/lib/python3.7/site-packages (from spacy<=2.0.18,>2.0; extra == \"spacy\"->rasa_nlu[spacy]) (6.12.1)\r\n"
     ]
    },
    {
     "name": "stdout",
     "output_type": "stream",
     "text": [
      "Requirement already satisfied, skipping upgrade: dill<0.3,>=0.2 in ./anaconda3/lib/python3.7/site-packages (from spacy<=2.0.18,>2.0; extra == \"spacy\"->rasa_nlu[spacy]) (0.2.9)\r\nRequirement already satisfied, skipping upgrade: ujson>=1.35 in ./anaconda3/lib/python3.7/site-packages (from spacy<=2.0.18,>2.0; extra == \"spacy\"->rasa_nlu[spacy]) (1.35)\r\nRequirement already satisfied, skipping upgrade: preshed<2.1.0,>=2.0.1 in ./anaconda3/lib/python3.7/site-packages (from spacy<=2.0.18,>2.0; extra == \"spacy\"->rasa_nlu[spacy]) (2.0.1)\r\nRequirement already satisfied, skipping upgrade: murmurhash<1.1.0,>=0.28.0 in ./anaconda3/lib/python3.7/site-packages (from spacy<=2.0.18,>2.0; extra == \"spacy\"->rasa_nlu[spacy]) (1.0.2)\r\nRequirement already satisfied, skipping upgrade: regex==2018.01.10 in ./anaconda3/lib/python3.7/site-packages (from spacy<=2.0.18,>2.0; extra == \"spacy\"->rasa_nlu[spacy]) (2018.1.10)\r\nRequirement already satisfied, skipping upgrade: cymem<2.1.0,>=2.0.2 in ./anaconda3/lib/python3.7/site-packages (from spacy<=2.0.18,>2.0; extra == \"spacy\"->rasa_nlu[spacy]) (2.0.2)\r\n"
     ]
    },
    {
     "name": "stdout",
     "output_type": "stream",
     "text": [
      "Requirement already satisfied, skipping upgrade: plac<1.0.0,>=0.9.6 in ./anaconda3/lib/python3.7/site-packages (from spacy<=2.0.18,>2.0; extra == \"spacy\"->rasa_nlu[spacy]) (0.9.6)\r\nRequirement already satisfied, skipping upgrade: markdown>=2.6.8 in ./anaconda3/lib/python3.7/site-packages (from tensorboard<1.14.0,>=1.13.0->tensorflow~=1.13.0->rasa_core) (3.1.1)\r\nRequirement already satisfied, skipping upgrade: h5py in ./anaconda3/lib/python3.7/site-packages (from keras-applications>=1.0.6->tensorflow~=1.13.0->rasa_core) (2.9.0)\r\nRequirement already satisfied, skipping upgrade: mock>=2.0.0 in ./anaconda3/lib/python3.7/site-packages (from tensorflow-estimator<1.14.0rc0,>=1.13.0->tensorflow~=1.13.0->rasa_core) (3.0.5)\r\n"
     ]
    },
    {
     "name": "stdout",
     "output_type": "stream",
     "text": [
      "Requirement already satisfied, skipping upgrade: MarkupSafe>=0.23 in ./anaconda3/lib/python3.7/site-packages (from Jinja2>=2.10->flask~=1.0->rasa_core) (1.1.1)\r\nRequirement already satisfied, skipping upgrade: cffi!=1.11.3,>=1.8 in ./anaconda3/lib/python3.7/site-packages (from cryptography->python-telegram-bot~=11.0->rasa_core) (1.12.3)\r\nRequirement already satisfied, skipping upgrade: asn1crypto>=0.21.0 in ./anaconda3/lib/python3.7/site-packages (from cryptography->python-telegram-bot~=11.0->rasa_core) (0.24.0)\r\n"
     ]
    },
    {
     "name": "stdout",
     "output_type": "stream",
     "text": [
      "Requirement already satisfied, skipping upgrade: wcwidth in ./anaconda3/lib/python3.7/site-packages (from prompt-toolkit~=2.0->questionary>=1.0.1->rasa_core) (0.1.7)\r\nRequirement already satisfied, skipping upgrade: hyperlink>=17.1.1 in ./anaconda3/lib/python3.7/site-packages (from Twisted>=15.5->klein~=17.10->rasa_nlu[spacy]) (19.0.0)\r\nRequirement already satisfied, skipping upgrade: constantly>=15.1 in ./anaconda3/lib/python3.7/site-packages (from Twisted>=15.5->klein~=17.10->rasa_nlu[spacy]) (15.1.0)\r\nRequirement already satisfied, skipping upgrade: attrs>=17.4.0 in ./anaconda3/lib/python3.7/site-packages (from Twisted>=15.5->klein~=17.10->rasa_nlu[spacy]) (19.1.0)\r\n"
     ]
    },
    {
     "name": "stdout",
     "output_type": "stream",
     "text": [
      "Requirement already satisfied, skipping upgrade: Automat>=0.3.0 in ./anaconda3/lib/python3.7/site-packages (from Twisted>=15.5->klein~=17.10->rasa_nlu[spacy]) (0.7.0)\r\nRequirement already satisfied, skipping upgrade: PyHamcrest>=1.9.0 in ./anaconda3/lib/python3.7/site-packages (from Twisted>=15.5->klein~=17.10->rasa_nlu[spacy]) (1.9.0)\r\n"
     ]
    },
    {
     "name": "stdout",
     "output_type": "stream",
     "text": [
      "Requirement already satisfied, skipping upgrade: zope.interface>=4.4.2 in ./anaconda3/lib/python3.7/site-packages (from Twisted>=15.5->klein~=17.10->rasa_nlu[spacy]) (4.6.0)\r\n"
     ]
    },
    {
     "name": "stdout",
     "output_type": "stream",
     "text": [
      "Requirement already satisfied, skipping upgrade: docutils<0.16,>=0.10 in ./anaconda3/lib/python3.7/site-packages (from botocore<1.13.0,>=1.12.224->boto3~=1.9->rasa_nlu[spacy]) (0.14)\r\nRequirement already satisfied, skipping upgrade: cytoolz<0.10,>=0.9.0 in ./anaconda3/lib/python3.7/site-packages (from thinc<6.13.0,>=6.12.1->spacy<=2.0.18,>2.0; extra == \"spacy\"->rasa_nlu[spacy]) (0.9.0.1)\r\nRequirement already satisfied, skipping upgrade: msgpack<0.6.0,>=0.5.6 in ./anaconda3/lib/python3.7/site-packages (from thinc<6.13.0,>=6.12.1->spacy<=2.0.18,>2.0; extra == \"spacy\"->rasa_nlu[spacy]) (0.5.6)\r\n"
     ]
    },
    {
     "name": "stdout",
     "output_type": "stream",
     "text": [
      "Requirement already satisfied, skipping upgrade: msgpack-numpy<0.4.4 in ./anaconda3/lib/python3.7/site-packages (from thinc<6.13.0,>=6.12.1->spacy<=2.0.18,>2.0; extra == \"spacy\"->rasa_nlu[spacy]) (0.4.3.2)\r\nCollecting wrapt<1.11.0,>=1.10.0 (from thinc<6.13.0,>=6.12.1->spacy<=2.0.18,>2.0; extra == \"spacy\"->rasa_nlu[spacy])\r\n"
     ]
    },
    {
     "name": "stdout",
     "output_type": "stream",
     "text": [
      "Requirement already satisfied, skipping upgrade: pycparser in ./anaconda3/lib/python3.7/site-packages (from cffi!=1.11.3,>=1.8->cryptography->python-telegram-bot~=11.0->rasa_core) (2.19)\r\nRequirement already satisfied, skipping upgrade: toolz>=0.8.0 in ./anaconda3/lib/python3.7/site-packages (from cytoolz<0.10,>=0.9.0->thinc<6.13.0,>=6.12.1->spacy<=2.0.18,>2.0; extra == \"spacy\"->rasa_nlu[spacy]) (0.9.0)\r\n"
     ]
    },
    {
     "name": "stdout",
     "output_type": "stream",
     "text": [
      "\u001b[31mERROR: astroid 2.2.5 requires typed-ast>=1.3.0; implementation_name == \"cpython\", which is not installed.\u001b[0m\r\nInstalling collected packages: terminaltables, docopt, pykwalify, pika, rocketchat-API, pymongo, colorhash, ConfigArgParse, rasa-core-sdk, PyJWT, flask-jwt-simple, websocket-client, slackclient, redis, pytz, fbmessenger, tensorboard, tensorflow-estimator, tensorflow, requests-toolbelt, webexteamssdk, python-telegram-bot, colorclass, fakeredis, jsonpickle, pydot, mattermostwrapper, tzlocal, apscheduler, python-engineio, python-socketio, questionary, twilio, rasa-core, wrapt\r\n"
     ]
    },
    {
     "name": "stdout",
     "output_type": "stream",
     "text": [
      "  Found existing installation: pytz 2019.1\r\n"
     ]
    },
    {
     "name": "stdout",
     "output_type": "stream",
     "text": [
      "    Uninstalling pytz-2019.1:\r\n      Successfully uninstalled pytz-2019.1\r\n"
     ]
    },
    {
     "name": "stdout",
     "output_type": "stream",
     "text": [
      "  Found existing installation: tensorboard 1.14.0\r\n"
     ]
    },
    {
     "name": "stdout",
     "output_type": "stream",
     "text": [
      "    Uninstalling tensorboard-1.14.0:\r\n      Successfully uninstalled tensorboard-1.14.0\r\n"
     ]
    },
    {
     "name": "stdout",
     "output_type": "stream",
     "text": [
      "  Found existing installation: tensorflow-estimator 1.14.0\r\n"
     ]
    },
    {
     "name": "stdout",
     "output_type": "stream",
     "text": [
      "    Uninstalling tensorflow-estimator-1.14.0:\r\n      Successfully uninstalled tensorflow-estimator-1.14.0\r\n"
     ]
    },
    {
     "name": "stdout",
     "output_type": "stream",
     "text": [
      "  Found existing installation: tensorflow 1.14.0\r\n"
     ]
    },
    {
     "name": "stdout",
     "output_type": "stream",
     "text": [
      "    Uninstalling tensorflow-1.14.0:\r\n"
     ]
    },
    {
     "name": "stdout",
     "output_type": "stream",
     "text": [
      "      Successfully uninstalled tensorflow-1.14.0\r\n"
     ]
    },
    {
     "name": "stdout",
     "output_type": "stream",
     "text": [
      "  Found existing installation: wrapt 1.11.1\r\n    Uninstalling wrapt-1.11.1:\r\n      Successfully uninstalled wrapt-1.11.1\r\n"
     ]
    },
    {
     "name": "stdout",
     "output_type": "stream",
     "text": [
      "Successfully installed ConfigArgParse-0.13.0 PyJWT-1.7.1 apscheduler-3.6.1 colorclass-2.2.0 colorhash-1.0.2 docopt-0.6.2 fakeredis-0.10.3 fbmessenger-5.6.0 flask-jwt-simple-0.0.3 jsonpickle-1.2 mattermostwrapper-2.1 pika-0.12.0 pydot-1.4.1 pykwalify-1.7.0 pymongo-3.9.0 python-engineio-3.9.3 python-socketio-3.1.2 python-telegram-bot-11.1.0 pytz-2018.9 questionary-1.3.0 rasa-core-0.14.5 rasa-core-sdk-0.14.0 redis-2.10.6 requests-toolbelt-0.9.1 rocketchat-API-0.6.34 slackclient-1.3.2 tensorboard-1.13.1 tensorflow-1.13.2 tensorflow-estimator-1.13.0 terminaltables-3.1.0 twilio-6.30.0 tzlocal-2.0.0 webexteamssdk-1.1.1 websocket-client-0.54.0 wrapt-1.10.11\r\n"
     ]
    },
    {
     "name": "stdout",
     "output_type": "stream",
     "text": [
      "Note: you may need to restart the kernel to use updated packages.\n"
     ]
    }
   ],
   "source": [
    "%pip install -U rasa_core rasa_nlu[spacy]"
   ]
  },
  {
   "cell_type": "code",
   "execution_count": 23,
   "metadata": {},
   "outputs": [
    {
     "name": "stdout",
     "output_type": "stream",
     "text": [
      "usage: conda [-h] [-V] command ...\r\nconda: error: argument command: invalid choice: '/Users/ducnguyen/anaconda3/bin/python' (choose from 'clean', 'config', 'create', 'help', 'info', 'init', 'install', 'list', 'package', 'remove', 'uninstall', 'run', 'search', 'update', 'upgrade')\r\n"
     ]
    },
    {
     "name": "stdout",
     "output_type": "stream",
     "text": [
      "\nNote: you may need to restart the kernel to use updated packages.\n"
     ]
    }
   ],
   "source": [
    "conda$python -m spacy download en\n"
   ]
  },
  {
   "cell_type": "code",
   "execution_count": 15,
   "metadata": {},
   "outputs": [],
   "source": [
    "import rasa_nlu\n",
    "import rasa_core\n",
    "import spacy"
   ]
  },
  {
   "cell_type": "code",
   "execution_count": 16,
   "metadata": {},
   "outputs": [
    {
     "name": "stdout",
     "output_type": "stream",
     "text": [
      "Writing 'nlu_md' (str) to file '/Users/ducnguyen/python/ChatBot/nlu.md'.\n"
     ]
    }
   ],
   "source": [
    "nlu_md = \"\"\"\n",
    "## intent:greet\n",
    "- hey\n",
    "- hello there\n",
    "- hi\n",
    "- hello there\n",
    "- good morning\n",
    "- good evening\n",
    "- moin\n",
    "- hey there\n",
    "- let's go\n",
    "- hey dude\n",
    "- goodmorning\n",
    "- goodevening\n",
    "- good afternoon\n",
    "\n",
    "## intent:goodbye\n",
    "- cu\n",
    "- good by\n",
    "- cee you later\n",
    "- good night\n",
    "- good afternoon\n",
    "- bye\n",
    "- goodbye\n",
    "- have a nice day\n",
    "- see you around\n",
    "- bye bye\n",
    "- see you later\n",
    "\n",
    "## intent:mood_affirm\n",
    "- yes\n",
    "- indeed\n",
    "- of course\n",
    "- that sounds good\n",
    "- correct\n",
    "\n",
    "## intent:mood_deny\n",
    "- no\n",
    "- never\n",
    "- I don't think so\n",
    "- don't like that\n",
    "- no way\n",
    "- not really\n",
    "\n",
    "## intent:mood_great\n",
    "- perfect\n",
    "- very good\n",
    "- great\n",
    "- amazing\n",
    "- feeling like a king\n",
    "- wonderful\n",
    "- I am feeling very good\n",
    "- I am great\n",
    "- I am amazing\n",
    "- I am going to save the world\n",
    "- super\n",
    "- extremely good\n",
    "- so so perfect\n",
    "- so good\n",
    "- so perfect\n",
    "\n",
    "## intent:mood_unhappy\n",
    "- my day was horrible\n",
    "- I am sad\n",
    "- I don't feel very well\n",
    "- I am disappointed\n",
    "- super sad\n",
    "- I'm so sad\n",
    "- sad\n",
    "- very sad\n",
    "- unhappy\n",
    "- bad\n",
    "- very bad\n",
    "- awful\n",
    "- terrible\n",
    "- not so good\n",
    "- not very good\n",
    "- extremly sad\n",
    "- so saad\n",
    "- Quite bad - can I get a cute picture of a [bird](group:birds), please?\n",
    "- Really bad and only [doggo](group:shibes) pics and change that.\n",
    "- Not good. The only thing that could make me fell better is a picture of a cute [kitten](group:cats).\n",
    "- so sad. Only the picture of a [puppy](group:shibes) could make it better.\n",
    "- I am very sad. I need a [cat](group:cats) picture.\n",
    "- Extremely sad. Only the cute [doggo](group:shibes) pics can make me feel better.\n",
    "- Bad. Please show me a [bird](group:birds) pic!\n",
    "- Pretty bad to be honest. Can you show me a [puppy](group:shibes) picture to make me fell better?\n",
    "\n",
    "## intent: inform\n",
    "- A [dog](group:shibes)\n",
    "- [dog](group:shibes)\n",
    "- [bird](group:birds)\n",
    "- a [cat](group:cats)\n",
    "- [cat](group:cats)\n",
    "- a [bird](group:birds)\n",
    "- of a [dog](group:shibes)\n",
    "- of a [cat](group:cats)\n",
    "- a [bird](group:birds), please\n",
    "- a [dog](group:shibes), please\n",
    "\"\"\"\n",
    "\n",
    "%store nlu_md > /Users/ducnguyen/python/ChatBot/nlu.md"
   ]
  },
  {
   "cell_type": "code",
   "execution_count": 17,
   "metadata": {},
   "outputs": [
    {
     "name": "stdout",
     "output_type": "stream",
     "text": [
      "Writing 'config' (str) to file '/Users/ducnguyen/python/ChatBot/config.yml'.\n"
     ]
    }
   ],
   "source": [
    "config = \"\"\"\n",
    "language: \"en\"\n",
    "\n",
    "pipeline:\n",
    "- name: \"nlp_spacy\"                   # loads the spacy language model\n",
    "- name: \"tokenizer_spacy\"             # splits the sentence into tokens\n",
    "- name: \"ner_crf\"                   # uses the pretrained spacy NER model\n",
    "- name: \"intent_featurizer_spacy\"     # transform the sentence into a vector representation\n",
    "- name: \"intent_classifier_sklearn\"   # uses the vector representation to classify using SVM\n",
    "- name: \"ner_synonyms\"                # trains the synonyms\n",
    "\"\"\" \n",
    "\n",
    "%store config > /Users/ducnguyen/python/ChatBot/config.yml"
   ]
  },
  {
   "cell_type": "code",
   "execution_count": 26,
   "metadata": {},
   "outputs": [
    {
     "ename": "OSError",
     "evalue": "[E050] Can't find model 'en'. It doesn't seem to be a shortcut link, a Python package or a valid path to a data directory.",
     "traceback": [
      "\u001b[0;31m---------------------------------------------------------------------------\u001b[0m",
      "\u001b[0;31mOSError\u001b[0m                                   Traceback (most recent call last)",
      "\u001b[0;32m<ipython-input-26-049bf798ad20>\u001b[0m in \u001b[0;36m<module>\u001b[0;34m\u001b[0m\n\u001b[1;32m      3\u001b[0m \u001b[0;32mfrom\u001b[0m \u001b[0mrasa_nlu\u001b[0m\u001b[0;34m.\u001b[0m\u001b[0mmodel\u001b[0m \u001b[0;32mimport\u001b[0m \u001b[0mTrainer\u001b[0m\u001b[0;34m\u001b[0m\u001b[0;34m\u001b[0m\u001b[0m\n\u001b[1;32m      4\u001b[0m \u001b[0;32mfrom\u001b[0m \u001b[0mrasa_nlu\u001b[0m \u001b[0;32mimport\u001b[0m \u001b[0mconfig\u001b[0m\u001b[0;34m\u001b[0m\u001b[0;34m\u001b[0m\u001b[0m\n\u001b[0;32m----> 5\u001b[0;31m \u001b[0mnlp\u001b[0m \u001b[0;34m=\u001b[0m \u001b[0mspacy\u001b[0m\u001b[0;34m.\u001b[0m\u001b[0mload\u001b[0m\u001b[0;34m(\u001b[0m\u001b[0;34m'en'\u001b[0m\u001b[0;34m)\u001b[0m\u001b[0;34m\u001b[0m\u001b[0;34m\u001b[0m\u001b[0m\n\u001b[0m\u001b[1;32m      6\u001b[0m \u001b[0;31m# loading the nlu training samples\u001b[0m\u001b[0;34m\u001b[0m\u001b[0;34m\u001b[0m\u001b[0;34m\u001b[0m\u001b[0m\n\u001b[1;32m      7\u001b[0m \u001b[0mtraining_data\u001b[0m \u001b[0;34m=\u001b[0m \u001b[0mload_data\u001b[0m\u001b[0;34m(\u001b[0m\u001b[0;34m\"/Users/ducnguyen/python/ChatBot/nlu.md\"\u001b[0m\u001b[0;34m)\u001b[0m\u001b[0;34m\u001b[0m\u001b[0;34m\u001b[0m\u001b[0m\n",
      "\u001b[0;32m~/anaconda3/lib/python3.7/site-packages/spacy/__init__.py\u001b[0m in \u001b[0;36mload\u001b[0;34m(name, **overrides)\u001b[0m\n\u001b[1;32m     19\u001b[0m     \u001b[0;32mif\u001b[0m \u001b[0mdepr_path\u001b[0m \u001b[0;32mnot\u001b[0m \u001b[0;32min\u001b[0m \u001b[0;34m(\u001b[0m\u001b[0;32mTrue\u001b[0m\u001b[0;34m,\u001b[0m \u001b[0;32mFalse\u001b[0m\u001b[0;34m,\u001b[0m \u001b[0;32mNone\u001b[0m\u001b[0;34m)\u001b[0m\u001b[0;34m:\u001b[0m\u001b[0;34m\u001b[0m\u001b[0;34m\u001b[0m\u001b[0m\n\u001b[1;32m     20\u001b[0m         \u001b[0mdeprecation_warning\u001b[0m\u001b[0;34m(\u001b[0m\u001b[0mWarnings\u001b[0m\u001b[0;34m.\u001b[0m\u001b[0mW001\u001b[0m\u001b[0;34m.\u001b[0m\u001b[0mformat\u001b[0m\u001b[0;34m(\u001b[0m\u001b[0mpath\u001b[0m\u001b[0;34m=\u001b[0m\u001b[0mdepr_path\u001b[0m\u001b[0;34m)\u001b[0m\u001b[0;34m)\u001b[0m\u001b[0;34m\u001b[0m\u001b[0;34m\u001b[0m\u001b[0m\n\u001b[0;32m---> 21\u001b[0;31m     \u001b[0;32mreturn\u001b[0m \u001b[0mutil\u001b[0m\u001b[0;34m.\u001b[0m\u001b[0mload_model\u001b[0m\u001b[0;34m(\u001b[0m\u001b[0mname\u001b[0m\u001b[0;34m,\u001b[0m \u001b[0;34m**\u001b[0m\u001b[0moverrides\u001b[0m\u001b[0;34m)\u001b[0m\u001b[0;34m\u001b[0m\u001b[0;34m\u001b[0m\u001b[0m\n\u001b[0m\u001b[1;32m     22\u001b[0m \u001b[0;34m\u001b[0m\u001b[0m\n\u001b[1;32m     23\u001b[0m \u001b[0;34m\u001b[0m\u001b[0m\n",
      "\u001b[0;32m~/anaconda3/lib/python3.7/site-packages/spacy/util.py\u001b[0m in \u001b[0;36mload_model\u001b[0;34m(name, **overrides)\u001b[0m\n\u001b[1;32m    117\u001b[0m     \u001b[0;32melif\u001b[0m \u001b[0mhasattr\u001b[0m\u001b[0;34m(\u001b[0m\u001b[0mname\u001b[0m\u001b[0;34m,\u001b[0m \u001b[0;34m'exists'\u001b[0m\u001b[0;34m)\u001b[0m\u001b[0;34m:\u001b[0m  \u001b[0;31m# Path or Path-like to model data\u001b[0m\u001b[0;34m\u001b[0m\u001b[0;34m\u001b[0m\u001b[0m\n\u001b[1;32m    118\u001b[0m         \u001b[0;32mreturn\u001b[0m \u001b[0mload_model_from_path\u001b[0m\u001b[0;34m(\u001b[0m\u001b[0mname\u001b[0m\u001b[0;34m,\u001b[0m \u001b[0;34m**\u001b[0m\u001b[0moverrides\u001b[0m\u001b[0;34m)\u001b[0m\u001b[0;34m\u001b[0m\u001b[0;34m\u001b[0m\u001b[0m\n\u001b[0;32m--> 119\u001b[0;31m     \u001b[0;32mraise\u001b[0m \u001b[0mIOError\u001b[0m\u001b[0;34m(\u001b[0m\u001b[0mErrors\u001b[0m\u001b[0;34m.\u001b[0m\u001b[0mE050\u001b[0m\u001b[0;34m.\u001b[0m\u001b[0mformat\u001b[0m\u001b[0;34m(\u001b[0m\u001b[0mname\u001b[0m\u001b[0;34m=\u001b[0m\u001b[0mname\u001b[0m\u001b[0;34m)\u001b[0m\u001b[0;34m)\u001b[0m\u001b[0;34m\u001b[0m\u001b[0;34m\u001b[0m\u001b[0m\n\u001b[0m\u001b[1;32m    120\u001b[0m \u001b[0;34m\u001b[0m\u001b[0m\n\u001b[1;32m    121\u001b[0m \u001b[0;34m\u001b[0m\u001b[0m\n",
      "\u001b[0;31mOSError\u001b[0m: [E050] Can't find model 'en'. It doesn't seem to be a shortcut link, a Python package or a valid path to a data directory."
     ],
     "output_type": "error"
    }
   ],
   "source": [
    "from rasa_nlu.training_data import load_data\n",
    "from rasa_nlu.config import RasaNLUModelConfig\n",
    "from rasa_nlu.model import Trainer\n",
    "from rasa_nlu import config\n",
    "nlp = spacy.load('en')\n",
    "# loading the nlu training samples\n",
    "training_data = load_data(\"/Users/ducnguyen/python/ChatBot/nlu.md\")\n",
    "\n",
    "# trainer to educate our pipeline\n",
    "trainer = Trainer(config.load(\"/Users/ducnguyen/python/ChatBot/config.yml\"))\n",
    "\n",
    "# train the model!\n",
    "interpreter = trainer.train(training_data)\n",
    "\n",
    "# store it for future use\n",
    "model_directory = trainer.persist(\"/Users/ducnguyen/python/ChatBot/models/nlu\", fixed_model_name=\"current\")"
   ]
  },
  {
   "cell_type": "code",
   "execution_count": 25,
   "metadata": {},
   "outputs": [
    {
     "ename": "SyntaxError",
     "evalue": "invalid syntax (<ipython-input-25-fc4d5d118d23>, line 1)",
     "traceback": [
      "\u001b[0;36m  File \u001b[0;32m\"<ipython-input-25-fc4d5d118d23>\"\u001b[0;36m, line \u001b[0;32m1\u001b[0m\n\u001b[0;31m    python -m spacy download en\u001b[0m\n\u001b[0m                  ^\u001b[0m\n\u001b[0;31mSyntaxError\u001b[0m\u001b[0;31m:\u001b[0m invalid syntax\n"
     ],
     "output_type": "error"
    }
   ],
   "source": [
    ""
   ]
  },
  {
   "cell_type": "code",
   "execution_count": null,
   "metadata": {},
   "outputs": [],
   "source": []
  }
 ],
 "metadata": {
  "kernelspec": {
   "display_name": "Python 2",
   "language": "python",
   "name": "python2"
  },
  "language_info": {
   "codemirror_mode": {
    "name": "ipython",
    "version": 2
   },
   "file_extension": ".py",
   "mimetype": "text/x-python",
   "name": "python",
   "nbconvert_exporter": "python",
   "pygments_lexer": "ipython2",
   "version": "2.7.6"
  }
 },
 "nbformat": 4,
 "nbformat_minor": 0
}
